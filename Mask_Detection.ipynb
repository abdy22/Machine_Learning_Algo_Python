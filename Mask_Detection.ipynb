{
  "nbformat": 4,
  "nbformat_minor": 0,
  "metadata": {
    "colab": {
      "name": "Mask_Detection.ipynb",
      "provenance": [],
      "authorship_tag": "ABX9TyOlrn3hsJpYuJMHo+6qXV+7",
      "include_colab_link": true
    },
    "kernelspec": {
      "name": "python3",
      "display_name": "Python 3"
    }
  },
  "cells": [
    {
      "cell_type": "markdown",
      "metadata": {
        "id": "view-in-github",
        "colab_type": "text"
      },
      "source": [
        "<a href=\"https://colab.research.google.com/github/abdy22/Machine_Learning_Algo_Python/blob/master/Mask_Detection.ipynb\" target=\"_parent\"><img src=\"https://colab.research.google.com/assets/colab-badge.svg\" alt=\"Open In Colab\"/></a>"
      ]
    },
    {
      "cell_type": "code",
      "metadata": {
        "id": "dbHJtTNZ5tOl",
        "colab_type": "code",
        "colab": {}
      },
      "source": [
        "import tensorflow as tf\n",
        "from tensorflow.keras.preprocessing.image import ImageDataGenerator\n",
        "from tensorflow.keras.optimizers import RMSprop\n",
        "import numpy as np\n",
        "import matplotlib.pyplot as plt\n",
        "import cv2\n",
        "import os "
      ],
      "execution_count": 3,
      "outputs": []
    },
    {
      "cell_type": "code",
      "metadata": {
        "id": "dQ1SzMCr6Beu",
        "colab_type": "code",
        "colab": {}
      },
      "source": [
        "train=ImageDataGenerator(rescale=1/255)\n",
        "validation=ImageDataGenerator(rescale=1/255)\n"
      ],
      "execution_count": 4,
      "outputs": []
    },
    {
      "cell_type": "code",
      "metadata": {
        "id": "x6ksGxgP97hX",
        "colab_type": "code",
        "colab": {
          "base_uri": "https://localhost:8080/",
          "height": 35
        },
        "outputId": "dd993a00-b395-4dc0-ad60-c5b6f248959f"
      },
      "source": [
        "from google.colab import drive\n",
        "drive.mount('/content/drive')"
      ],
      "execution_count": 15,
      "outputs": [
        {
          "output_type": "stream",
          "text": [
            "Drive already mounted at /content/drive; to attempt to forcibly remount, call drive.mount(\"/content/drive\", force_remount=True).\n"
          ],
          "name": "stdout"
        }
      ]
    },
    {
      "cell_type": "code",
      "metadata": {
        "id": "AttzLaF0MsFk",
        "colab_type": "code",
        "colab": {}
      },
      "source": [
        "image_size=(200,200)\n",
        "train_path='/content/drive/My Drive/CNN/training'\n",
        "Validation_path='/content/drive/My Drive/CNN/validation'\n"
      ],
      "execution_count": 23,
      "outputs": []
    },
    {
      "cell_type": "code",
      "metadata": {
        "id": "ugJs7rSSNIh7",
        "colab_type": "code",
        "colab": {
          "base_uri": "https://localhost:8080/",
          "height": 54
        },
        "outputId": "5ae4c032-3c0f-4fab-9275-a951e7103be0"
      },
      "source": [
        "train_dataset=train.flow_from_directory(train_path,\n",
        "                                        target_size=image_size,\n",
        "                                        batch_size=3,\n",
        "                                        class_mode='binary')\n",
        "validation_dataset=train.flow_from_directory(Validation_path,\n",
        "                                        target_size=image_size,\n",
        "                                        batch_size=3,\n",
        "                                        class_mode='binary')"
      ],
      "execution_count": 28,
      "outputs": [
        {
          "output_type": "stream",
          "text": [
            "Found 38 images belonging to 2 classes.\n",
            "Found 14 images belonging to 2 classes.\n"
          ],
          "name": "stdout"
        }
      ]
    },
    {
      "cell_type": "code",
      "metadata": {
        "id": "42oE1fnaOXvE",
        "colab_type": "code",
        "colab": {}
      },
      "source": [
        "model=tf.keras.Sequential([tf.keras.layers.Conv2D(16,(3,3),activation='relu',input_shape=(200,200,3)),\n",
        "                           tf.keras.layers.MaxPool2D(2,2),\n",
        "                           tf.keras.layers.Conv2D(32,(3,3),activation='relu'),\n",
        "                           tf.keras.layers.MaxPool2D(2,2),\n",
        "\n",
        "                           tf.keras.layers.Flatten(),\n",
        "                           tf.keras.layers.Dense(512,activation='relu'),\n",
        "                           tf.keras.layers.Dense(1,activation='sigmoid')\n",
        "\n",
        "\n",
        "                                                   ])"
      ],
      "execution_count": 31,
      "outputs": []
    },
    {
      "cell_type": "code",
      "metadata": {
        "id": "cojjGaW_Qvyb",
        "colab_type": "code",
        "colab": {}
      },
      "source": [
        "model.compile(loss='binary_crossentropy',\n",
        "              optimizer=RMSprop(lr=0.001),\n",
        "              metrics=['accuracy'])"
      ],
      "execution_count": 32,
      "outputs": []
    },
    {
      "cell_type": "code",
      "metadata": {
        "id": "Llc9T-F7RVR-",
        "colab_type": "code",
        "colab": {
          "base_uri": "https://localhost:8080/",
          "height": 384
        },
        "outputId": "6ca4ba55-082e-460e-d778-6941c75ca6fd"
      },
      "source": [
        "result=model.fit(train_dataset,\n",
        "                 steps_per_epoch=3,\n",
        "                 epochs=10,\n",
        "                 validation_data=validation_dataset)"
      ],
      "execution_count": 38,
      "outputs": [
        {
          "output_type": "stream",
          "text": [
            "Epoch 1/10\n",
            "3/3 [==============================] - 6s 2s/step - loss: 27.3149 - accuracy: 0.6250 - val_loss: 10.9600 - val_accuracy: 0.5000\n",
            "Epoch 2/10\n",
            "3/3 [==============================] - 2s 767ms/step - loss: 10.2042 - accuracy: 0.3750 - val_loss: 8.3991 - val_accuracy: 0.5000\n",
            "Epoch 3/10\n",
            "3/3 [==============================] - 2s 729ms/step - loss: 7.7185 - accuracy: 0.3333 - val_loss: 2.2185 - val_accuracy: 0.5000\n",
            "Epoch 4/10\n",
            "3/3 [==============================] - 2s 780ms/step - loss: 1.8344 - accuracy: 0.3750 - val_loss: 0.5550 - val_accuracy: 0.6429\n",
            "Epoch 5/10\n",
            "3/3 [==============================] - 2s 772ms/step - loss: 0.3811 - accuracy: 0.8889 - val_loss: 1.4299 - val_accuracy: 0.5000\n",
            "Epoch 6/10\n",
            "3/3 [==============================] - 2s 805ms/step - loss: 0.3448 - accuracy: 0.7778 - val_loss: 0.6437 - val_accuracy: 0.5000\n",
            "Epoch 7/10\n",
            "3/3 [==============================] - 2s 746ms/step - loss: 0.7289 - accuracy: 0.7778 - val_loss: 0.8693 - val_accuracy: 0.5000\n",
            "Epoch 8/10\n",
            "3/3 [==============================] - 2s 788ms/step - loss: 0.1871 - accuracy: 0.8889 - val_loss: 0.7965 - val_accuracy: 0.5000\n",
            "Epoch 9/10\n",
            "3/3 [==============================] - 2s 775ms/step - loss: 0.2226 - accuracy: 0.8750 - val_loss: 0.6602 - val_accuracy: 0.5714\n",
            "Epoch 10/10\n",
            "3/3 [==============================] - 2s 756ms/step - loss: 0.0486 - accuracy: 1.0000 - val_loss: 0.8198 - val_accuracy: 0.5000\n"
          ],
          "name": "stdout"
        }
      ]
    }
  ]
}