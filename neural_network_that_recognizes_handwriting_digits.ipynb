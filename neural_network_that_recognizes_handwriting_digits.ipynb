{
  "nbformat": 4,
  "nbformat_minor": 0,
  "metadata": {
    "colab": {
      "name": " neural_network_that_recognizes_handwriting_digits",
      "provenance": [],
      "authorship_tag": "ABX9TyNVq0YEfZnQtT+XgspTMXij",
      "include_colab_link": true
    },
    "kernelspec": {
      "name": "python3",
      "display_name": "Python 3"
    }
  },
  "cells": [
    {
      "cell_type": "markdown",
      "metadata": {
        "id": "view-in-github",
        "colab_type": "text"
      },
      "source": [
        "<a href=\"https://colab.research.google.com/github/abdy22/Machine_Learning_Algo_Python/blob/master/neural_network_that_recognizes_handwriting_digits.ipynb\" target=\"_parent\"><img src=\"https://colab.research.google.com/assets/colab-badge.svg\" alt=\"Open In Colab\"/></a>"
      ]
    },
    {
      "cell_type": "code",
      "metadata": {
        "id": "6wgTcC2bhr9R",
        "colab_type": "code",
        "colab": {}
      },
      "source": [
        "import tensorflow as tf\n",
        "mnist = tf.keras.datasets.mnist\n"
      ],
      "execution_count": 1,
      "outputs": []
    },
    {
      "cell_type": "code",
      "metadata": {
        "id": "RGUez-hEimEq",
        "colab_type": "code",
        "colab": {}
      },
      "source": [
        "#training data \n",
        "(x_train, y_train),(x_test, y_test) = mnist.load_data()\n",
        "print(x_train[0])\n",
        "print(y_train[0])"
      ],
      "execution_count": null,
      "outputs": []
    },
    {
      "cell_type": "code",
      "metadata": {
        "id": "wB5AioMMjQhS",
        "colab_type": "code",
        "colab": {}
      },
      "source": [
        "#nomalize data to go from 0 and 1\n",
        "x_train = x_train / 255.0\n",
        "x_test= x_test / 255.0\n"
      ],
      "execution_count": 6,
      "outputs": []
    },
    {
      "cell_type": "code",
      "metadata": {
        "id": "Tpo5ogN_icI4",
        "colab_type": "code",
        "colab": {}
      },
      "source": [
        "#callback to end training when 99% accuracy is reached\n",
        "class myCallback(tf.keras.callbacks.Callback):\n",
        "  def on_epoch_end(self, epoch, logs={}):\n",
        "    if(logs.get('accuracy')>0.99):\n",
        "      print(\"\\nReached 99% accuracy so cancelling training!\")\n",
        "      self.model.stop_training = True\n",
        "callbacks=myCallback()"
      ],
      "execution_count": 17,
      "outputs": []
    },
    {
      "cell_type": "code",
      "metadata": {
        "id": "ebjEDes3jvLX",
        "colab_type": "code",
        "colab": {}
      },
      "source": [
        "#create model layers\n",
        "model=tf.keras.Sequential([tf.keras.layers.Flatten(input_shape=(28, 28)),\n",
        "                           tf.keras.layers.Dense(528,activation=tf.nn.relu),\n",
        "                           tf.keras.layers.Dense(10,activation=tf.nn.softmax)])\n",
        "#model compiler\n",
        "model.compile(optimizer='adam',\n",
        "              loss='sparse_categorical_crossentropy',\n",
        "              metrics=['accuracy'])\n",
        "\n",
        "\n",
        "\n"
      ],
      "execution_count": 18,
      "outputs": []
    },
    {
      "cell_type": "code",
      "metadata": {
        "id": "9P129-11m7eJ",
        "colab_type": "code",
        "colab": {
          "base_uri": "https://localhost:8080/",
          "height": 256
        },
        "outputId": "80bbd658-b69b-44db-b999-98ef32a24e3a"
      },
      "source": [
        "#train model\n",
        "model.fit(x_train,y_train,epochs=15,callbacks=[callbacks])"
      ],
      "execution_count": 19,
      "outputs": [
        {
          "output_type": "stream",
          "text": [
            "Epoch 1/15\n",
            "1875/1875 [==============================] - 7s 4ms/step - loss: 0.1981 - accuracy: 0.9423\n",
            "Epoch 2/15\n",
            "1875/1875 [==============================] - 7s 4ms/step - loss: 0.0798 - accuracy: 0.9758\n",
            "Epoch 3/15\n",
            "1875/1875 [==============================] - 7s 4ms/step - loss: 0.0523 - accuracy: 0.9833\n",
            "Epoch 4/15\n",
            "1875/1875 [==============================] - 8s 4ms/step - loss: 0.0362 - accuracy: 0.9886\n",
            "Epoch 5/15\n",
            "1863/1875 [============================>.] - ETA: 0s - loss: 0.0283 - accuracy: 0.9915\n",
            "Reached 99% accuracy so cancelling training!\n",
            "1875/1875 [==============================] - 7s 4ms/step - loss: 0.0283 - accuracy: 0.9915\n"
          ],
          "name": "stdout"
        },
        {
          "output_type": "execute_result",
          "data": {
            "text/plain": [
              "<tensorflow.python.keras.callbacks.History at 0x7f654d10c630>"
            ]
          },
          "metadata": {
            "tags": []
          },
          "execution_count": 19
        }
      ]
    },
    {
      "cell_type": "code",
      "metadata": {
        "id": "nxbxBZTQsI39",
        "colab_type": "code",
        "colab": {
          "base_uri": "https://localhost:8080/",
          "height": 35
        },
        "outputId": "70dc4313-62d2-4e8d-d088-fe0c9e7d29a8"
      },
      "source": [
        "model.evaluate(x_test,y_test)\n",
        "classification=model.predict(x_test)"
      ],
      "execution_count": 22,
      "outputs": [
        {
          "output_type": "stream",
          "text": [
            "313/313 [==============================] - 1s 2ms/step - loss: 0.0716 - accuracy: 0.9802\n"
          ],
          "name": "stdout"
        }
      ]
    },
    {
      "cell_type": "code",
      "metadata": {
        "id": "N7P8mTu0sVZt",
        "colab_type": "code",
        "colab": {
          "base_uri": "https://localhost:8080/",
          "height": 72
        },
        "outputId": "11746b23-d2af-49bf-b880-c404675d6094"
      },
      "source": [
        "print(classification[3])\n",
        "print(y_test[3])"
      ],
      "execution_count": 26,
      "outputs": [
        {
          "output_type": "stream",
          "text": [
            "[9.9988854e-01 1.2348562e-10 2.2741344e-05 2.2962006e-08 5.9609340e-09\n",
            " 1.4806720e-06 8.6825763e-05 1.7250549e-07 5.5136775e-09 2.5006818e-07]\n",
            "0\n"
          ],
          "name": "stdout"
        }
      ]
    }
  ]
}