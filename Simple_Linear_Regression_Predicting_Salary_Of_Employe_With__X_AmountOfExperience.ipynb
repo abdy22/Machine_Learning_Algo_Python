{
  "nbformat": 4,
  "nbformat_minor": 0,
  "metadata": {
    "colab": {
      "name": "Simple_Linear_Regression_Predicting_Salary_Of Employe_With_ X_AmountOfExperience.ipynb",
      "provenance": [],
      "authorship_tag": "ABX9TyMXQ5ZjKEOy1gyfGmEebdGo",
      "include_colab_link": true
    },
    "kernelspec": {
      "name": "python3",
      "display_name": "Python 3"
    }
  },
  "cells": [
    {
      "cell_type": "markdown",
      "metadata": {
        "id": "view-in-github",
        "colab_type": "text"
      },
      "source": [
        "<a href=\"https://colab.research.google.com/github/abdy22/Machine_Learning_Algo_Python/blob/master/Simple_Linear_Regression_Predicting_Salary_Of_Employe_With__X_AmountOfExperience.ipynb\" target=\"_parent\"><img src=\"https://colab.research.google.com/assets/colab-badge.svg\" alt=\"Open In Colab\"/></a>"
      ]
    },
    {
      "cell_type": "code",
      "metadata": {
        "id": "aTE_ctgqz3PJ",
        "colab_type": "code",
        "colab": {}
      },
      "source": [
        "import numpy as np\n",
        "import matplotlib.pyplot as plot\n",
        "import pandas as pd "
      ],
      "execution_count": 1,
      "outputs": []
    },
    {
      "cell_type": "markdown",
      "metadata": {
        "id": "2FNBaKvQaCzv",
        "colab_type": "text"
      },
      "source": [
        "importing dataset "
      ]
    },
    {
      "cell_type": "code",
      "metadata": {
        "id": "nB9tx6a3aF5U",
        "colab_type": "code",
        "colab": {}
      },
      "source": [
        "data=pd.read_csv('Salary_Data.csv')\n",
        "x=data.iloc[:,:-1].values\n",
        "y=data.iloc[:,-1].values\n"
      ],
      "execution_count": 3,
      "outputs": []
    },
    {
      "cell_type": "markdown",
      "metadata": {
        "id": "rqd-usLFbaxT",
        "colab_type": "text"
      },
      "source": [
        "splitting data"
      ]
    },
    {
      "cell_type": "code",
      "metadata": {
        "id": "PPXAm89Ebdi5",
        "colab_type": "code",
        "colab": {}
      },
      "source": [
        "from sklearn.model_selection import train_test_split\n",
        "x_train,x_test,y_train,y_test=train_test_split(x,y,test_size=0.2,random_state=1)\n"
      ],
      "execution_count": 5,
      "outputs": []
    },
    {
      "cell_type": "markdown",
      "metadata": {
        "id": "QA5P-VYGRdi7",
        "colab_type": "text"
      },
      "source": [
        "Simple Linear Regression Model"
      ]
    },
    {
      "cell_type": "code",
      "metadata": {
        "id": "HMu-Zhz5Ribr",
        "colab_type": "code",
        "colab": {
          "base_uri": "https://localhost:8080/",
          "height": 55
        },
        "outputId": "a590f571-174d-4b3e-f4fd-e0f16ee508f0"
      },
      "source": [
        "from sklearn.linear_model import LinearRegression\n",
        "regression=LinearRegression();\n",
        "regression.fit(x_train,y_train)\n"
      ],
      "execution_count": 6,
      "outputs": [
        {
          "output_type": "execute_result",
          "data": {
            "text/plain": [
              "LinearRegression(copy_X=True, fit_intercept=True, n_jobs=None, normalize=False)"
            ]
          },
          "metadata": {
            "tags": []
          },
          "execution_count": 6
        }
      ]
    },
    {
      "cell_type": "markdown",
      "metadata": {
        "id": "VTCujUnoSEBd",
        "colab_type": "text"
      },
      "source": [
        "Prediction"
      ]
    },
    {
      "cell_type": "code",
      "metadata": {
        "id": "ua0Q-hLaSGaH",
        "colab_type": "code",
        "colab": {}
      },
      "source": [
        "y_predict=regression.predict(x_test)"
      ],
      "execution_count": 7,
      "outputs": []
    },
    {
      "cell_type": "markdown",
      "metadata": {
        "id": "NlxHgu_tSr1P",
        "colab_type": "text"
      },
      "source": [
        "training Dataset visualization"
      ]
    },
    {
      "cell_type": "code",
      "metadata": {
        "id": "UZaikOhRSxVX",
        "colab_type": "code",
        "colab": {
          "base_uri": "https://localhost:8080/",
          "height": 295
        },
        "outputId": "ffb18261-df07-4318-c630-abbc738c7db5"
      },
      "source": [
        "plot.scatter(x_train,y_train,color='green')\n",
        "plot.plot(x_train,regression.predict(x_train),color='red')\n",
        "plot.title('salary vs Number of experiences')\n",
        "plot.xlabel('years of experience')\n",
        "plot.ylabel('salary')\n",
        "plot.show()"
      ],
      "execution_count": 9,
      "outputs": [
        {
          "output_type": "display_data",
          "data": {
            "image/png": "[encoded data removed]",
            "text/plain": [
              "<Figure size 432x288 with 1 Axes>"
            ]
          },
          "metadata": {
            "tags": [],
            "needs_background": "light"
          }
        }
      ]
    },
    {
      "cell_type": "markdown",
      "metadata": {
        "id": "5z01noLtUPhC",
        "colab_type": "text"
      },
      "source": [
        "testing Dataset Visualization"
      ]
    },
    {
      "cell_type": "code",
      "metadata": {
        "id": "bM2BxOAGUVz5",
        "colab_type": "code",
        "colab": {
          "base_uri": "https://localhost:8080/",
          "height": 295
        },
        "outputId": "21bc36ed-cb5f-43a9-cb13-fecdb020d036"
      },
      "source": [
        "plot.scatter(x_test,y_test,color='green')\n",
        "plot.plot(x_train,regression.predict(x_train),color='red')\n",
        "plot.title('salary vs Number of experiences')\n",
        "plot.xlabel('years of experience')\n",
        "plot.ylabel('salary')\n",
        "plot.show()\n",
        "\n"
      ],
      "execution_count": 17,
      "outputs": [
        {
          "output_type": "display_data",
          "data": {
            "image/png": "[encoded data removed]",
            "text/plain": [
              "<Figure size 432x288 with 1 Axes>"
            ]
          },
          "metadata": {
            "tags": [],
            "needs_background": "light"
          }
        }
      ]
    },
    {
      "cell_type": "markdown",
      "metadata": {
        "id": "uxeJwcBjW6jL",
        "colab_type": "text"
      },
      "source": [
        "Making a single Prediction "
      ]
    },
    {
      "cell_type": "code",
      "metadata": {
        "id": "TtW5qtznW_hu",
        "colab_type": "code",
        "colab": {
          "base_uri": "https://localhost:8080/",
          "height": 35
        },
        "outputId": "8d12c281-f4f6-4e7d-94ba-d21a130848e6"
      },
      "source": [
        "print('The salary of of 15 years experience is ',regression.predict([[15]]))"
      ],
      "execution_count": 22,
      "outputs": [
        {
          "output_type": "stream",
          "text": [
            "The salary of of 15 years experience is  [165604.06906825]\n"
          ],
          "name": "stdout"
        }
      ]
    },
    {
      "cell_type": "markdown",
      "metadata": {
        "id": "cSMQ6GqHX0Mm",
        "colab_type": "text"
      },
      "source": [
        "The equation of Linear regression "
      ]
    },
    {
      "cell_type": "code",
      "metadata": {
        "id": "g1dTtB45X4lf",
        "colab_type": "code",
        "colab": {}
      },
      "source": [
        "m=regression.coef_\n",
        "b=regression.intercept_\n",
        "\n"
      ],
      "execution_count": 23,
      "outputs": []
    },
    {
      "cell_type": "code",
      "metadata": {
        "id": "KI9MceMoYJN8",
        "colab_type": "code",
        "colab": {
          "base_uri": "https://localhost:8080/",
          "height": 35
        },
        "outputId": "8082a455-fce6-4d31-994c-bc99936fddd4"
      },
      "source": [
        "print(m,'X +',b)"
      ],
      "execution_count": 24,
      "outputs": [
        {
          "output_type": "stream",
          "text": [
            "[9332.94473799] X + 25609.89799835482\n"
          ],
          "name": "stdout"
        }
      ]
    }
  ]
}